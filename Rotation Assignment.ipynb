{
 "cells": [
  {
   "cell_type": "markdown",
   "metadata": {},
   "source": [
    "\n",
    "\n",
    "Present a description of the essential elements of plane group symmetry, matrix algebra, and group theory to understand how these are related;\n",
    "Identify the audience for which the work is intended;\n",
    "Run the code necessary to draw one of the plane groups;\n",
    "Provide a narrative and equations to explain why your approach is relevant to solving the problem;\n",
    "Provide references and citations to any others' work you use to complete the assignment;\n",
    "Be checked into your GitHub repository by the due date (one week from assignment).\n",
    "A high quality communication provides an organized, logically progressing, blend of narrative, equations, and code that teaches the reader a particular topic or idea. You will be assessed on:\n",
    "\n",
    "The functionality of the code (i.e. it should perform the task assigned).\n",
    "The narrative you present. I should be able to read and learn from it. Choose your audience wisely.\n",
    "The supporting equations and figures you choose to include.\n",
    "If your notebook is just computer code your assignment will be marked incomplete."
   ]
  },
  {
   "cell_type": "markdown",
   "metadata": {},
   "source": [
    "### Introduction"
   ]
  },
  {
   "cell_type": "markdown",
   "metadata": {},
   "source": [
    "Operations involving vectors are vital for numerous reasons in computing, mathematics, science, and engineering. For example, in crystallography, the use of vectors greatly simplifies the description of and quantitative operations on crystal structures. There are four major categories of vector operations: reflections, rotations, stretches/shrinks, and translations. Matrix operations are the primary method for applying these vector operations."
   ]
  },
  {
   "cell_type": "markdown",
   "metadata": {},
   "source": [
    "### Plane Groups"
   ]
  },
  {
   "cell_type": "markdown",
   "metadata": {},
   "source": [
    "There are 17 plane groups, each representing a different combination of translations, reflections, and rotations. A typical symbol  to use for listing these plane groups is an uppercase \"R\" because it only has one axis of symmetry. Each plane group is made up of a lattice and a point group. there are five lattices and twelve point groups.\n",
    "\n",
    "See Figure 1 for an example listing of the plane groups."
   ]
  },
  {
   "cell_type": "code",
   "execution_count": 4,
   "metadata": {},
   "outputs": [
    {
     "ename": "SyntaxError",
     "evalue": "invalid syntax (<ipython-input-4-25b31a4c281e>, line 1)",
     "output_type": "error",
     "traceback": [
      "\u001b[1;36m  File \u001b[1;32m\"<ipython-input-4-25b31a4c281e>\"\u001b[1;36m, line \u001b[1;32m1\u001b[0m\n\u001b[1;33m    [alt text](http://localhost:8888/files/Documents/GitHub/mathinmse.github.io/images/planeGroups.png)\u001b[0m\n\u001b[1;37m            ^\u001b[0m\n\u001b[1;31mSyntaxError\u001b[0m\u001b[1;31m:\u001b[0m invalid syntax\n"
     ]
    }
   ],
   "source": [
    "[alt text](http://localhost:8888/files/Documents/GitHub/mathinmse.github.io/images/planeGroups.png)"
   ]
  },
  {
   "cell_type": "code",
   "execution_count": null,
   "metadata": {},
   "outputs": [],
   "source": [
    "*Figure 1: The Plane Groups*"
   ]
  },
  {
   "cell_type": "markdown",
   "metadata": {},
   "source": [
    "The symbol \"R\" in this consists of a group of vectors, all of which have the same set of matrix operations applied to them. For example, in plane group 10,  every vector in R is rotated 90 degrees, and all of these vectors are translated horizontally and vertically."
   ]
  },
  {
   "cell_type": "code",
   "execution_count": 60,
   "metadata": {},
   "outputs": [
    {
     "name": "stdout",
     "output_type": "stream",
     "text": [
      "[(50, 150), (150, 75), (150, 150)]\n"
     ]
    },
    {
     "data": {
      "image/png": "[encoded data removed]",
      "text/plain": [
       "<PIL.Image.Image image mode=RGB size=500x500 at 0x28EB9E74148>"
      ]
     },
     "execution_count": 60,
     "metadata": {},
     "output_type": "execute_result"
    }
   ],
   "source": [
    "import numpy as np\n",
    "import math\n",
    "from PIL import Image, ImageDraw\n",
    "\n",
    "\n",
    "\n",
    "def rotation2D(theta):\n",
    "    return np.array([[np.cos(theta), np.sin(theta)],\n",
    "                     [-np.sin(theta),  np.cos(theta)]])\n",
    "\n",
    "def setCenter(points):\n",
    "    for i in points:\n",
    "        \n",
    "        i[0] = int(i[0]+150)\n",
    "        i[1] =int(i[1]+150)\n",
    "        \n",
    "\n",
    "    #print(points)\n",
    "    return points\n",
    "\n",
    "def makeTuple(list):\n",
    "    for i in range(0,len(list)):\n",
    "        list[i] = (int(list[i][0]),int(list[i][1]))\n",
    "        #print(list[i])\n",
    "    #print(list)\n",
    "    return list\n",
    "\n",
    "\n",
    "\n",
    "image = Image.new('RGB', (500, 500), 'white')\n",
    "draw = ImageDraw.Draw(image)\n",
    "\n",
    "\n",
    "\n",
    "trianglePoints = [[100,0],[0,75],[0,0]]\n",
    "translation = [[0,10],[0,10], [0,10]]\n",
    "firstRotate = rotation2D(np.pi/2)\n",
    "secondPoints = np.dot(np.array(trianglePoints),firstRotate)\n",
    "thirdPoints = np.dot(np.array(secondPoints),firstRotate)\n",
    "fourthPoints = np.dot(np.array(thirdPoints), firstRotate)\n",
    "\n",
    "#print(secondPoints)\n",
    "\n",
    "firstTri = (setCenter(trianglePoints))\n",
    "firstTri = makeTuple(firstTri)\n",
    "secondTri = (setCenter(list(secondPoints)))\n",
    "\n",
    "secondTri = makeTuple(secondTri)\n",
    "\n",
    "thirdTri = makeTuple(setCenter(list(thirdPoints)))\n",
    "print(thirdTri)\n",
    "fourthTri = makeTuple(setCenter(list(fourthPoints)))\n",
    "\n",
    "\n",
    "draw.polygon(firstTri,fill = 'black', outline = 'green')\n",
    "draw.polygon(secondTri,fill = 'green', outline = 'black')\n",
    "draw.polygon(thirdTri, fill = 'blue', outline = 'black')\n",
    "draw.polygon(fourthTri, fill = 'red', outline = 'black')\n",
    "\n",
    "image\n"
   ]
  },
  {
   "cell_type": "markdown",
   "metadata": {},
   "source": [
    "Now, consider some ways to improve or extend the code I have just demonstrated. Here are some suggestions:\n",
    "\n",
    "- You could create a function to do the rotation and other steps needed to draw a triangle\n",
    "- You could create a function to translate or reflect the triangles as well as rotating them\n",
    "- You could create a class of different plane groups and run a triangle through multiple of them.\n",
    "\n",
    "There are other methods one can try to make a plane group as well, and plenty of other reading you can find."
   ]
  },
  {
   "cell_type": "code",
   "execution_count": null,
   "metadata": {},
   "outputs": [],
   "source": []
  }
 ],
 "metadata": {
  "kernelspec": {
   "display_name": "Python 3",
   "language": "python",
   "name": "python3"
  },
  "language_info": {
   "codemirror_mode": {
    "name": "ipython",
    "version": 3
   },
   "file_extension": ".py",
   "mimetype": "text/x-python",
   "name": "python",
   "nbconvert_exporter": "python",
   "pygments_lexer": "ipython3",
   "version": "3.7.6"
  }
 },
 "nbformat": 4,
 "nbformat_minor": 4
}
