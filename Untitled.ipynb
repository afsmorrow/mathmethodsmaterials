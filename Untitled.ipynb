{
 "cells": [
  {
   "cell_type": "code",
   "execution_count": 42,
   "metadata": {},
   "outputs": [
    {
     "name": "stdout",
     "output_type": "stream",
     "text": [
      "IPython console for SymPy 1.5.1 (Python 3.7.6-64-bit) (ground types: python)\n",
      "\n",
      "These commands were executed:\n",
      ">>> from __future__ import division\n",
      ">>> from sympy import *\n",
      ">>> x, y, z, t = symbols('x y z t')\n",
      ">>> k, m, n = symbols('k m n', integer=True)\n",
      ">>> f, g, h = symbols('f g h', cls=Function)\n",
      ">>> init_printing()\n",
      "\n",
      "Documentation can be found at https://docs.sympy.org/1.5.1/\n",
      "\n"
     ]
    }
   ],
   "source": [
    "import sympy as sp\n",
    "from sympy.plotting import plot3d\n",
    "import numpy as np\n",
    "import matplotlib.pyplot as plt\n",
    "import sympy.vector as spv\n",
    "from matplotlib import cm\n",
    "\n",
    "x, y, z = sp.symbols('x y z')\n",
    "\n",
    "sp.init_session()"
   ]
  },
  {
   "cell_type": "code",
   "execution_count": 87,
   "metadata": {},
   "outputs": [
    {
     "data": {
      "image/png": "[encoded data removed]",
      "text/latex": [
       "$\\displaystyle G_{A} \\left(1 - \\operatorname{X_{B}}{\\left(x \\right)}\\right) + G_{B} \\operatorname{X_{B}}{\\left(x \\right)} + R T \\left(\\left(1 - \\operatorname{X_{B}}{\\left(x \\right)}\\right) \\log{\\left(1 - \\operatorname{X_{B}}{\\left(x \\right)} \\right)} + \\operatorname{X_{B}}{\\left(x \\right)} \\log{\\left(\\operatorname{X_{B}}{\\left(x \\right)} \\right)}\\right)$"
      ],
      "text/plain": [
       "G_A⋅(1 - X_B(x)) + G_B⋅X_B(x) + R⋅T⋅((1 - X_B(x))⋅log(1 - X_B(x)) + X_B(x)⋅log\n",
       "(X_B(x)))"
      ]
     },
     "execution_count": 87,
     "metadata": {},
     "output_type": "execute_result"
    }
   ],
   "source": [
    "g_a,g_b, R, T, X = sp.symbols(\"G_A G_B R T X\")\n",
    "b= sp.symbols('X_B', cls=Function)\n",
    "M = sp.symbols ('M', positive = True)\n",
    "g = g_a*(1-b(x)) + g_b*b(x) + R*T*(b(x)*sp.ln(b(x))+(1-b(x))*sp.ln(1-b(x)))\n",
    "g"
   ]
  },
  {
   "cell_type": "code",
   "execution_count": 88,
   "metadata": {},
   "outputs": [
    {
     "data": {
      "image/png": "[encoded data removed]",
      "text/latex": [
       "$\\displaystyle - G_{A} + G_{B} + R T \\left(- \\log{\\left(1 - \\operatorname{X_{B}}{\\left(x \\right)} \\right)} + \\log{\\left(\\operatorname{X_{B}}{\\left(x \\right)} \\right)}\\right)$"
      ],
      "text/plain": [
       "-G_A + G_B + R⋅T⋅(-log(1 - X_B(x)) + log(X_B(x)))"
      ]
     },
     "execution_count": 88,
     "metadata": {},
     "output_type": "execute_result"
    }
   ],
   "source": [
    "sp.diff(g,b(x))\n"
   ]
  },
  {
   "cell_type": "code",
   "execution_count": 90,
   "metadata": {},
   "outputs": [],
   "source": [
    "chemDerv= -M*sp.diff(sp.diff(g,b(x)),x).together()\n",
    "\n"
   ]
  },
  {
   "cell_type": "code",
   "execution_count": 97,
   "metadata": {},
   "outputs": [
    {
     "data": {
      "image/png": "[encoded data removed]",
      "text/latex": [
       "$\\displaystyle \\mathbf{\\hat{0}}$"
      ],
      "text/plain": [
       "0"
      ]
     },
     "execution_count": 97,
     "metadata": {},
     "output_type": "execute_result"
    }
   ],
   "source": [
    "M = 1/(R*T)\n",
    "vec =sp.lambdify(x, chemDerv, 'numpy')\n",
    "-spv.gradient(vec)"
   ]
  },
  {
   "cell_type": "code",
   "execution_count": null,
   "metadata": {},
   "outputs": [],
   "source": []
  }
 ],
 "metadata": {
  "kernelspec": {
   "display_name": "Python 3",
   "language": "python",
   "name": "python3"
  },
  "language_info": {
   "codemirror_mode": {
    "name": "ipython",
    "version": 3
   },
   "file_extension": ".py",
   "mimetype": "text/x-python",
   "name": "python",
   "nbconvert_exporter": "python",
   "pygments_lexer": "ipython3",
   "version": "3.7.6"
  }
 },
 "nbformat": 4,
 "nbformat_minor": 4
}
