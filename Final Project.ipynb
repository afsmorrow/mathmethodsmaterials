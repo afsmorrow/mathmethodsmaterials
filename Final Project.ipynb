{
 "cells": [
  {
   "cell_type": "markdown",
   "metadata": {},
   "source": [
    "Molecular dynamics is the study of how molecules move, what forces affect them, and how their movement and the forces interact. Experiments have found certain rules to this. For example:\n",
    "\n",
    "* The force affecting molecules is equal to the negative gradient of their potential energy\n",
    "* The potential of molecules is dependent on their velocity and temperature\n",
    "* When molecules collide, they transfer energy\n",
    "\n",
    "Computer programs are often used to study molecular dynamics. However, to do so, simplifying assumptions must be made. In this case, we will assume there is no van der Waals force, no friction, and the molecules are interacting in a vacuum. We also assume they will only interact upon contact with each and the walls. We also only use two dimensions."
   ]
  },
  {
   "cell_type": "code",
   "execution_count": 3,
   "metadata": {},
   "outputs": [
    {
     "name": "stdout",
     "output_type": "stream",
     "text": [
      "\n"
     ]
    }
   ],
   "source": [
    "import numpy as np\n",
    "import sympy as sp\n",
    "import matplotlib\n",
    "import matplotlib.pyplot as plt\n",
    "import random as rand\n",
    "\n",
    "\n",
    "sp.init_session(quiet = True)\n",
    "%matplotlib inline"
   ]
  },
  {
   "cell_type": "code",
   "execution_count": 5,
   "metadata": {},
   "outputs": [
    {
     "data": {
      "image/png": "[encoded data removed]",
      "text/latex": [
       "$\\displaystyle \\left[ \\left( 9, \\  -4\\right), \\  \\left( -1, \\  2\\right), \\  \\left( 2, \\  -1\\right), \\  \\left( -5, \\  8\\right), \\  \\left( -4, \\  -9\\right), \\  \\left( -3, \\  4\\right), \\  \\left( -4, \\  -7\\right), \\  \\left( 6, \\  6\\right), \\  \\left( -10, \\  -7\\right), \\  \\left( 0, \\  0\\right)\\right]$"
      ],
      "text/plain": [
       "[(9, -4), (-1, 2), (2, -1), (-5, 8), (-4, -9), (-3, 4), (-4, -7), (6, 6), (-10\n",
       ", -7), (0, 0)]"
      ]
     },
     "execution_count": 5,
     "metadata": {},
     "output_type": "execute_result"
    }
   ],
   "source": [
    "L = 40\n",
    "molNum = 10\n",
    "velList = []\n",
    "posList = []\n",
    "\n",
    "for i in range(0, molNum):\n",
    "    velList.append((rand.randrange(-10,10),rand.randrange(-10,10)))\n",
    "    posList.append([0,0])\n",
    "velList"
   ]
  },
  {
   "cell_type": "code",
   "execution_count": null,
   "metadata": {},
   "outputs": [],
   "source": []
  }
 ],
 "metadata": {
  "kernelspec": {
   "display_name": "Python 3",
   "language": "python",
   "name": "python3"
  },
  "language_info": {
   "codemirror_mode": {
    "name": "ipython",
    "version": 3
   },
   "file_extension": ".py",
   "mimetype": "text/x-python",
   "name": "python",
   "nbconvert_exporter": "python",
   "pygments_lexer": "ipython3",
   "version": "3.7.6"
  }
 },
 "nbformat": 4,
 "nbformat_minor": 4
}
