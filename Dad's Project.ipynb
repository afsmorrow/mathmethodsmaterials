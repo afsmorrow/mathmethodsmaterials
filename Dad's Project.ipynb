{
 "cells": [
  {
   "cell_type": "code",
   "execution_count": 1,
   "metadata": {},
   "outputs": [
    {
     "data": {
      "text/html": [
       "<div>\n",
       "<style scoped>\n",
       "    .dataframe tbody tr th:only-of-type {\n",
       "        vertical-align: middle;\n",
       "    }\n",
       "\n",
       "    .dataframe tbody tr th {\n",
       "        vertical-align: top;\n",
       "    }\n",
       "\n",
       "    .dataframe thead th {\n",
       "        text-align: right;\n",
       "    }\n",
       "</style>\n",
       "<table border=\"1\" class=\"dataframe\">\n",
       "  <thead>\n",
       "    <tr style=\"text-align: right;\">\n",
       "      <th></th>\n",
       "      <th>Category</th>\n",
       "      <th>String</th>\n",
       "    </tr>\n",
       "  </thead>\n",
       "  <tbody>\n",
       "    <tr>\n",
       "      <th>0</th>\n",
       "      <td>Fruit</td>\n",
       "      <td>Apple| Peach | Blueberry | Rasberry</td>\n",
       "    </tr>\n",
       "    <tr>\n",
       "      <th>1</th>\n",
       "      <td>Vegtable</td>\n",
       "      <td>Lettuce | Cucumber | Spinach</td>\n",
       "    </tr>\n",
       "    <tr>\n",
       "      <th>2</th>\n",
       "      <td>Animal</td>\n",
       "      <td>Wolf | Dog | Cat | Shark | Tiger | Bear | Fo |</td>\n",
       "    </tr>\n",
       "  </tbody>\n",
       "</table>\n",
       "</div>"
      ],
      "text/plain": [
       "   Category                                          String\n",
       "0     Fruit             Apple| Peach | Blueberry | Rasberry\n",
       "1  Vegtable                    Lettuce | Cucumber | Spinach\n",
       "2    Animal  Wolf | Dog | Cat | Shark | Tiger | Bear | Fo |"
      ]
     },
     "execution_count": 1,
     "metadata": {},
     "output_type": "execute_result"
    }
   ],
   "source": [
    "import pandas as pd\n",
    "import numpy as np\n",
    "\n",
    "data = pd.read_csv(\"PythonExcel.csv\")\n",
    "data"
   ]
  },
  {
   "cell_type": "code",
   "execution_count": 12,
   "metadata": {},
   "outputs": [
    {
     "data": {
      "text/plain": [
       "[['Apple', ' Peach ', ' Blueberry ', ' Rasberry'],\n",
       " ['Lettuce ', ' Cucumber ', ' Spinach'],\n",
       " ['Wolf ', ' Dog ', ' Cat ', ' Shark ', ' Tiger ', ' Bear ', ' Fo ', '']]"
      ]
     },
     "execution_count": 12,
     "metadata": {},
     "output_type": "execute_result"
    }
   ],
   "source": [
    "categories = data[\"Category\"]\n",
    "items = data[\"String\"]\n",
    "itemList = []\n",
    "for i in items:\n",
    "    #print(i)\n",
    "    addList = []\n",
    "    addList = i.split('|')\n",
    "    itemList.append(addList)\n",
    "itemList"
   ]
  },
  {
   "cell_type": "code",
   "execution_count": 14,
   "metadata": {},
   "outputs": [
    {
     "data": {
      "text/plain": [
       "{'Fruit': ['Apple', ' Peach ', ' Blueberry ', ' Rasberry'],\n",
       " 'Vegtable': ['Lettuce ', ' Cucumber ', ' Spinach'],\n",
       " 'Animal': ['Wolf ',\n",
       "  ' Dog ',\n",
       "  ' Cat ',\n",
       "  ' Shark ',\n",
       "  ' Tiger ',\n",
       "  ' Bear ',\n",
       "  ' Fo ',\n",
       "  '']}"
      ]
     },
     "execution_count": 14,
     "metadata": {},
     "output_type": "execute_result"
    }
   ],
   "source": [
    "categories[0]\n",
    "itemDict = {}\n",
    "\n",
    "j=0\n",
    "for i in categories:\n",
    "    itemDict[i] = itemList[j]\n",
    "    j+=1\n",
    "itemDict"
   ]
  },
  {
   "cell_type": "code",
   "execution_count": null,
   "metadata": {},
   "outputs": [],
   "source": [
    "list "
   ]
  }
 ],
 "metadata": {
  "kernelspec": {
   "display_name": "Python 3",
   "language": "python",
   "name": "python3"
  },
  "language_info": {
   "codemirror_mode": {
    "name": "ipython",
    "version": 3
   },
   "file_extension": ".py",
   "mimetype": "text/x-python",
   "name": "python",
   "nbconvert_exporter": "python",
   "pygments_lexer": "ipython3",
   "version": "3.7.6"
  }
 },
 "nbformat": 4,
 "nbformat_minor": 4
}
