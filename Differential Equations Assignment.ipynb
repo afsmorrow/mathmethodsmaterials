{
 "cells": [
  {
   "cell_type": "markdown",
   "metadata": {},
   "source": [
    "Solve the Maxwell model for a time varying stress.  Solve in `sympy` and plot with `numpy` (you'll get better plotting performance.  You will be graded on your solution as well as your visualization and written response.  Choose a forcing function such as:\n",
    "\n",
    "$$\\sigma(t) = \\sigma_0 \\sin(\\omega t)$$\n",
    "\n",
    "for this problem."
   ]
  },
  {
   "cell_type": "code",
   "execution_count": 28,
   "metadata": {},
   "outputs": [
    {
     "name": "stdout",
     "output_type": "stream",
     "text": [
      "\n"
     ]
    }
   ],
   "source": [
    "import sympy as sp\n",
    "sp.init_session(quiet = True)"
   ]
  },
  {
   "cell_type": "code",
   "execution_count": 39,
   "metadata": {},
   "outputs": [
    {
     "data": {
      "text/plain": [
       "(epsilon, sigma)"
      ]
     },
     "execution_count": 39,
     "metadata": {},
     "output_type": "execute_result"
    }
   ],
   "source": [
    "sp.var('omega, M, eta, epsilon0, sigma0', real=True, positive=True)\n",
    "sp.var('t', real = True)\n",
    "sp.var('epsilon, sigma', cls = Function)"
   ]
  },
  {
   "cell_type": "code",
   "execution_count": 40,
   "metadata": {},
   "outputs": [
    {
     "data": {
      "image/png": "[encoded data removed]",
      "text/latex": [
       "$\\displaystyle \\sigma{\\left(t \\right)} = M \\epsilon{\\left(t \\right)} + \\eta \\frac{d}{d t} \\epsilon{\\left(t \\right)}$"
      ],
      "text/plain": [
       "                  d       \n",
       "σ(t) = M⋅ε(t) + η⋅──(ε(t))\n",
       "                  dt      "
      ]
     },
     "execution_count": 40,
     "metadata": {},
     "output_type": "execute_result"
    }
   ],
   "source": [
    "kelvinModel = Eq(sigma(t),M*epsilon(t)+eta*epsilon(t).diff(t))\n",
    "kelvinModel"
   ]
  },
  {
   "cell_type": "code",
   "execution_count": 41,
   "metadata": {},
   "outputs": [
    {
     "data": {
      "image/png": "[encoded data removed]",
      "text/latex": [
       "$\\displaystyle \\sigma_{0} \\sin{\\left(\\omega t \\right)} = M \\epsilon{\\left(t \\right)} + \\eta \\frac{d}{d t} \\epsilon{\\left(t \\right)}$"
      ],
      "text/plain": [
       "                         d       \n",
       "σ₀⋅sin(ω⋅t) = M⋅ε(t) + η⋅──(ε(t))\n",
       "                         dt      "
      ]
     },
     "execution_count": 41,
     "metadata": {},
     "output_type": "execute_result"
    }
   ],
   "source": [
    "kelvinModelVaryingStress = kelvinModel.subs(sigma(t),sigma0*sp.sin(omega*t))\n",
    "kelvinModelVaryingStress"
   ]
  },
  {
   "cell_type": "code",
   "execution_count": 42,
   "metadata": {},
   "outputs": [
    {
     "data": {
      "image/png": "[encoded data removed]",
      "text/latex": [
       "$\\displaystyle \\epsilon{\\left(t \\right)} = \\left(C_{1} + \\frac{\\sigma_{0} \\left(M \\sin{\\left(\\omega t \\right)} - \\eta \\omega \\cos{\\left(\\omega t \\right)}\\right) e^{\\frac{M t}{\\eta}}}{M^{2} + \\eta^{2} \\omega^{2}}\\right) e^{- \\frac{M t}{\\eta}}$"
      ],
      "text/plain": [
       "       ⎛                                     M⋅t⎞       \n",
       "       ⎜                                     ───⎟  -M⋅t \n",
       "       ⎜                                      η ⎟  ─────\n",
       "       ⎜     σ₀⋅(M⋅sin(ω⋅t) - η⋅ω⋅cos(ω⋅t))⋅ℯ   ⎟    η  \n",
       "ε(t) = ⎜C₁ + ───────────────────────────────────⎟⋅ℯ     \n",
       "       ⎜                   2    2  2            ⎟       \n",
       "       ⎝                  M  + η ⋅ω             ⎠       "
      ]
     },
     "execution_count": 42,
     "metadata": {},
     "output_type": "execute_result"
    }
   ],
   "source": [
    "\n",
    "kelvinModelSolution = dsolve(kelvinModelVaryingStress,epsilon(t))\n",
    "kelvinModelSolution"
   ]
  },
  {
   "cell_type": "code",
   "execution_count": 43,
   "metadata": {},
   "outputs": [
    {
     "data": {
      "image/png": "[encoded data removed]",
      "text/latex": [
       "$\\displaystyle 0 = C_{1} - \\frac{\\eta \\omega \\sigma_{0}}{M^{2} + \\eta^{2} \\omega^{2}}$"
      ],
      "text/plain": [
       "           η⋅ω⋅σ₀  \n",
       "0 = C₁ - ──────────\n",
       "          2    2  2\n",
       "         M  + η ⋅ω "
      ]
     },
     "execution_count": 43,
     "metadata": {},
     "output_type": "execute_result"
    }
   ],
   "source": [
    "equationToSolveForC = kelvinModelSolution.subs([(epsilon(t),0),(t,0)])\n",
    "equationToSolveForC.doit()"
   ]
  },
  {
   "cell_type": "code",
   "execution_count": 44,
   "metadata": {},
   "outputs": [
    {
     "data": {
      "image/png": "[encoded data removed]",
      "text/latex": [
       "$\\displaystyle C_{1}$"
      ],
      "text/plain": [
       "C₁"
      ]
     },
     "execution_count": 44,
     "metadata": {},
     "output_type": "execute_result"
    }
   ],
   "source": [
    "var('C1')"
   ]
  },
  {
   "cell_type": "code",
   "execution_count": 45,
   "metadata": {},
   "outputs": [
    {
     "data": {
      "image/png": "[encoded data removed]",
      "text/latex": [
       "$\\displaystyle \\left[ \\frac{\\eta \\omega \\sigma_{0}}{M^{2} + \\eta^{2} \\omega^{2}}\\right]$"
      ],
      "text/plain": [
       "⎡  η⋅ω⋅σ₀  ⎤\n",
       "⎢──────────⎥\n",
       "⎢ 2    2  2⎥\n",
       "⎣M  + η ⋅ω ⎦"
      ]
     },
     "execution_count": 45,
     "metadata": {},
     "output_type": "execute_result"
    }
   ],
   "source": [
    "solve(equationToSolveForC.rhs,C1)"
   ]
  },
  {
   "cell_type": "code",
   "execution_count": 46,
   "metadata": {},
   "outputs": [
    {
     "data": {
      "image/png": "[encoded data removed]",
      "text/latex": [
       "$\\displaystyle \\epsilon{\\left(t \\right)} = \\left(\\frac{\\eta \\omega \\sigma_{0}}{M^{2} + \\eta^{2} \\omega^{2}} + \\frac{\\sigma_{0} \\left(M \\sin{\\left(\\omega t \\right)} - \\eta \\omega \\cos{\\left(\\omega t \\right)}\\right) e^{\\frac{M t}{\\eta}}}{M^{2} + \\eta^{2} \\omega^{2}}\\right) e^{- \\frac{M t}{\\eta}}$"
      ],
      "text/plain": [
       "       ⎛                                             M⋅t⎞       \n",
       "       ⎜                                             ───⎟  -M⋅t \n",
       "       ⎜                                              η ⎟  ─────\n",
       "       ⎜  η⋅ω⋅σ₀     σ₀⋅(M⋅sin(ω⋅t) - η⋅ω⋅cos(ω⋅t))⋅ℯ   ⎟    η  \n",
       "ε(t) = ⎜────────── + ───────────────────────────────────⎟⋅ℯ     \n",
       "       ⎜ 2    2  2                 2    2  2            ⎟       \n",
       "       ⎝M  + η ⋅ω                 M  + η ⋅ω             ⎠       "
      ]
     },
     "execution_count": 46,
     "metadata": {},
     "output_type": "execute_result"
    }
   ],
   "source": [
    "modeled = kelvinModelSolution.subs(C1,((omega*eta*sigma0)/(M**2 +eta**2*omega**2))).collect(sigma0,)\n",
    "modeled"
   ]
  },
  {
   "cell_type": "code",
   "execution_count": 47,
   "metadata": {},
   "outputs": [],
   "source": [
    "import numpy as np\n",
    "import matplotlib\n",
    "import matplotlib.pyplot as plt\n"
   ]
  },
  {
   "cell_type": "code",
   "execution_count": 48,
   "metadata": {},
   "outputs": [
    {
     "ename": "NameError",
     "evalue": "name 'epsilon' is not defined",
     "output_type": "error",
     "traceback": [
      "\u001b[1;31m---------------------------------------------------------------------------\u001b[0m",
      "\u001b[1;31mNameError\u001b[0m                                 Traceback (most recent call last)",
      "\u001b[1;32m<ipython-input-48-8747254866e7>\u001b[0m in \u001b[0;36m<module>\u001b[1;34m\u001b[0m\n\u001b[0;32m      8\u001b[0m \u001b[0maxes\u001b[0m \u001b[1;33m=\u001b[0m \u001b[0mfig\u001b[0m\u001b[1;33m.\u001b[0m\u001b[0madd_axes\u001b[0m\u001b[1;33m(\u001b[0m\u001b[1;33m[\u001b[0m\u001b[1;36m0.1\u001b[0m\u001b[1;33m,\u001b[0m\u001b[1;36m0.1\u001b[0m\u001b[1;33m,\u001b[0m\u001b[1;36m0.8\u001b[0m\u001b[1;33m,\u001b[0m\u001b[1;36m0.8\u001b[0m\u001b[1;33m]\u001b[0m\u001b[1;33m)\u001b[0m \u001b[1;31m#left,bottom, width, height 0-1\u001b[0m\u001b[1;33m\u001b[0m\u001b[1;33m\u001b[0m\u001b[0m\n\u001b[0;32m      9\u001b[0m \u001b[1;33m\u001b[0m\u001b[0m\n\u001b[1;32m---> 10\u001b[1;33m \u001b[0maxes\u001b[0m\u001b[1;33m.\u001b[0m\u001b[0mplot\u001b[0m\u001b[1;33m(\u001b[0m\u001b[0mtValues\u001b[0m\u001b[1;33m,\u001b[0m \u001b[0mnumModeled\u001b[0m\u001b[1;33m(\u001b[0m\u001b[0mtValues\u001b[0m\u001b[1;33m)\u001b[0m\u001b[1;33m,\u001b[0m\u001b[0mcolor\u001b[0m \u001b[1;33m=\u001b[0m \u001b[1;34m'g'\u001b[0m\u001b[1;33m)\u001b[0m\u001b[1;33m\u001b[0m\u001b[1;33m\u001b[0m\u001b[0m\n\u001b[0m\u001b[0;32m     11\u001b[0m \u001b[0maxes\u001b[0m\u001b[1;33m.\u001b[0m\u001b[0mset_xlabel\u001b[0m\u001b[1;33m(\u001b[0m\u001b[1;34m't'\u001b[0m\u001b[1;33m)\u001b[0m\u001b[1;33m\u001b[0m\u001b[1;33m\u001b[0m\u001b[0m\n\u001b[0;32m     12\u001b[0m \u001b[0maxes\u001b[0m\u001b[1;33m.\u001b[0m\u001b[0mset_ylabel\u001b[0m\u001b[1;33m(\u001b[0m\u001b[1;34m'epsilon'\u001b[0m\u001b[1;33m)\u001b[0m\u001b[1;33m\u001b[0m\u001b[1;33m\u001b[0m\u001b[0m\n",
      "\u001b[1;32m<lambdifygenerated-8>\u001b[0m in \u001b[0;36m_lambdifygenerated\u001b[1;34m(t)\u001b[0m\n\u001b[0;32m      1\u001b[0m \u001b[1;32mdef\u001b[0m \u001b[0m_lambdifygenerated\u001b[0m\u001b[1;33m(\u001b[0m\u001b[0mt\u001b[0m\u001b[1;33m)\u001b[0m\u001b[1;33m:\u001b[0m\u001b[1;33m\u001b[0m\u001b[1;33m\u001b[0m\u001b[0m\n\u001b[1;32m----> 2\u001b[1;33m     \u001b[1;32mreturn\u001b[0m \u001b[1;33m(\u001b[0m\u001b[0mequal\u001b[0m\u001b[1;33m(\u001b[0m\u001b[0mepsilon\u001b[0m\u001b[1;33m(\u001b[0m\u001b[0mt\u001b[0m\u001b[1;33m)\u001b[0m\u001b[1;33m,\u001b[0m \u001b[1;33m(\u001b[0m\u001b[0meta\u001b[0m\u001b[1;33m*\u001b[0m\u001b[0momega\u001b[0m\u001b[1;33m*\u001b[0m\u001b[0msigma0\u001b[0m\u001b[1;33m/\u001b[0m\u001b[1;33m(\u001b[0m\u001b[0mM\u001b[0m\u001b[1;33m**\u001b[0m\u001b[1;36m2\u001b[0m \u001b[1;33m+\u001b[0m \u001b[0meta\u001b[0m\u001b[1;33m**\u001b[0m\u001b[1;36m2\u001b[0m\u001b[1;33m*\u001b[0m\u001b[0momega\u001b[0m\u001b[1;33m**\u001b[0m\u001b[1;36m2\u001b[0m\u001b[1;33m)\u001b[0m \u001b[1;33m+\u001b[0m \u001b[0msigma0\u001b[0m\u001b[1;33m*\u001b[0m\u001b[1;33m(\u001b[0m\u001b[0mM\u001b[0m\u001b[1;33m*\u001b[0m\u001b[0msin\u001b[0m\u001b[1;33m(\u001b[0m\u001b[0momega\u001b[0m\u001b[1;33m*\u001b[0m\u001b[0mt\u001b[0m\u001b[1;33m)\u001b[0m \u001b[1;33m-\u001b[0m \u001b[0meta\u001b[0m\u001b[1;33m*\u001b[0m\u001b[0momega\u001b[0m\u001b[1;33m*\u001b[0m\u001b[0mcos\u001b[0m\u001b[1;33m(\u001b[0m\u001b[0momega\u001b[0m\u001b[1;33m*\u001b[0m\u001b[0mt\u001b[0m\u001b[1;33m)\u001b[0m\u001b[1;33m)\u001b[0m\u001b[1;33m*\u001b[0m\u001b[0mexp\u001b[0m\u001b[1;33m(\u001b[0m\u001b[0mM\u001b[0m\u001b[1;33m*\u001b[0m\u001b[0mt\u001b[0m\u001b[1;33m/\u001b[0m\u001b[0meta\u001b[0m\u001b[1;33m)\u001b[0m\u001b[1;33m/\u001b[0m\u001b[1;33m(\u001b[0m\u001b[0mM\u001b[0m\u001b[1;33m**\u001b[0m\u001b[1;36m2\u001b[0m \u001b[1;33m+\u001b[0m \u001b[0meta\u001b[0m\u001b[1;33m**\u001b[0m\u001b[1;36m2\u001b[0m\u001b[1;33m*\u001b[0m\u001b[0momega\u001b[0m\u001b[1;33m**\u001b[0m\u001b[1;36m2\u001b[0m\u001b[1;33m)\u001b[0m\u001b[1;33m)\u001b[0m\u001b[1;33m*\u001b[0m\u001b[0mexp\u001b[0m\u001b[1;33m(\u001b[0m\u001b[1;33m-\u001b[0m\u001b[0mM\u001b[0m\u001b[1;33m*\u001b[0m\u001b[0mt\u001b[0m\u001b[1;33m/\u001b[0m\u001b[0meta\u001b[0m\u001b[1;33m)\u001b[0m\u001b[1;33m)\u001b[0m\u001b[1;33m)\u001b[0m\u001b[1;33m\u001b[0m\u001b[1;33m\u001b[0m\u001b[0m\n\u001b[0m",
      "\u001b[1;31mNameError\u001b[0m: name 'epsilon' is not defined"
     ]
    }
   ],
   "source": [
    "\n",
    "numModeled = sp.lambdify((t),modeled, 'numpy')\n",
    "#print(numModeled)\n",
    "\n",
    "tValues = np.arange(0,1.1,0.1)\n",
    "tValLin = np.linspace(0,1,100)\n",
    "fig = plt.figure()\n",
    "\n",
    "axes = fig.add_axes([0.1,0.1,0.8,0.8]) #left,bottom, width, height 0-1\n",
    "\n",
    "axes.plot(tValues, numModeled(tValues),color = 'g')\n",
    "axes.set_xlabel('t')\n",
    "axes.set_ylabel('epsilon')\n",
    "\n",
    "plt.show()"
   ]
  },
  {
   "cell_type": "code",
   "execution_count": null,
   "metadata": {},
   "outputs": [],
   "source": []
  },
  {
   "cell_type": "code",
   "execution_count": null,
   "metadata": {},
   "outputs": [],
   "source": []
  }
 ],
 "metadata": {
  "kernelspec": {
   "display_name": "Python 3",
   "language": "python",
   "name": "python3"
  },
  "language_info": {
   "codemirror_mode": {
    "name": "ipython",
    "version": 3
   },
   "file_extension": ".py",
   "mimetype": "text/x-python",
   "name": "python",
   "nbconvert_exporter": "python",
   "pygments_lexer": "ipython3",
   "version": "3.7.6"
  }
 },
 "nbformat": 4,
 "nbformat_minor": 4
}
